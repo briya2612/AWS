{
 "cells": [
  {
   "cell_type": "code",
   "execution_count": 11,
   "id": "7ab695f2",
   "metadata": {},
   "outputs": [
    {
     "name": "stdout",
     "output_type": "stream",
     "text": [
      "Collecting spacy==3.3.0\n",
      "  Downloading spacy-3.3.0-cp36-cp36m-manylinux_2_17_x86_64.manylinux2014_x86_64.whl (6.2 MB)\n",
      "     |████████████████████████████████| 6.2 MB 4.7 MB/s            \n",
      "\u001b[?25hRequirement already satisfied: requests<3.0.0,>=2.13.0 in /home/ec2-user/anaconda3/envs/python3/lib/python3.6/site-packages (from spacy==3.3.0) (2.26.0)\n",
      "Collecting wasabi<1.1.0,>=0.9.1\n",
      "  Downloading wasabi-0.9.1-py3-none-any.whl (26 kB)\n",
      "Requirement already satisfied: jinja2 in /home/ec2-user/anaconda3/envs/python3/lib/python3.6/site-packages (from spacy==3.3.0) (2.11.3)\n",
      "Collecting cymem<2.1.0,>=2.0.2\n",
      "  Downloading cymem-2.0.6-cp36-cp36m-manylinux_2_17_x86_64.manylinux2014_x86_64.whl (35 kB)\n",
      "Collecting pydantic!=1.8,!=1.8.1,<1.9.0,>=1.7.4\n",
      "  Downloading pydantic-1.8.2-cp36-cp36m-manylinux2014_x86_64.whl (10.2 MB)\n",
      "     |████████████████████████████████| 10.2 MB 36.2 MB/s            \n",
      "\u001b[?25hRequirement already satisfied: numpy>=1.15.0 in /home/ec2-user/anaconda3/envs/python3/lib/python3.6/site-packages (from spacy==3.3.0) (1.19.5)\n",
      "Collecting murmurhash<1.1.0,>=0.28.0\n",
      "  Downloading murmurhash-1.0.7-cp36-cp36m-manylinux_2_5_x86_64.manylinux1_x86_64.manylinux_2_17_x86_64.manylinux2014_x86_64.whl (21 kB)\n",
      "Collecting langcodes<4.0.0,>=3.2.0\n",
      "  Downloading langcodes-3.3.0-py3-none-any.whl (181 kB)\n",
      "     |████████████████████████████████| 181 kB 68.5 MB/s            \n",
      "\u001b[?25hCollecting thinc<8.1.0,>=8.0.14\n",
      "  Downloading thinc-8.0.17-cp36-cp36m-manylinux_2_17_x86_64.manylinux2014_x86_64.whl (662 kB)\n",
      "     |████████████████████████████████| 662 kB 56.2 MB/s            \n",
      "\u001b[?25hRequirement already satisfied: tqdm<5.0.0,>=4.38.0 in /home/ec2-user/anaconda3/envs/python3/lib/python3.6/site-packages (from spacy==3.3.0) (4.62.3)\n",
      "Collecting spacy-legacy<3.1.0,>=3.0.9\n",
      "  Downloading spacy_legacy-3.0.9-py2.py3-none-any.whl (20 kB)\n",
      "Collecting catalogue<2.1.0,>=2.0.6\n",
      "  Downloading catalogue-2.0.7-py3-none-any.whl (17 kB)\n",
      "Requirement already satisfied: packaging>=20.0 in /home/ec2-user/anaconda3/envs/python3/lib/python3.6/site-packages (from spacy==3.3.0) (21.3)\n",
      "Collecting pathy>=0.3.5\n",
      "  Downloading pathy-0.6.1-py3-none-any.whl (42 kB)\n",
      "     |████████████████████████████████| 42 kB 2.2 MB/s             \n",
      "\u001b[?25hCollecting spacy-loggers<2.0.0,>=1.0.0\n",
      "  Downloading spacy_loggers-1.0.2-py3-none-any.whl (7.2 kB)\n",
      "Collecting typing-extensions<4.0.0.0,>=3.7.4\n",
      "  Downloading typing_extensions-3.10.0.2-py3-none-any.whl (26 kB)\n",
      "Collecting blis<0.8.0,>=0.4.0\n",
      "  Downloading blis-0.7.7-cp36-cp36m-manylinux_2_17_x86_64.manylinux2014_x86_64.whl (9.9 MB)\n",
      "     |████████████████████████████████| 9.9 MB 55.0 MB/s            \n",
      "\u001b[?25hCollecting typer<0.5.0,>=0.3.0\n",
      "  Downloading typer-0.4.1-py3-none-any.whl (27 kB)\n",
      "Collecting preshed<3.1.0,>=3.0.2\n",
      "  Downloading preshed-3.0.6-cp36-cp36m-manylinux_2_5_x86_64.manylinux1_x86_64.manylinux_2_17_x86_64.manylinux2014_x86_64.whl (127 kB)\n",
      "     |████████████████████████████████| 127 kB 63.5 MB/s            \n",
      "\u001b[?25hRequirement already satisfied: setuptools in /home/ec2-user/anaconda3/envs/python3/lib/python3.6/site-packages (from spacy==3.3.0) (49.6.0.post20210108)\n",
      "Collecting srsly<3.0.0,>=2.4.3\n",
      "  Downloading srsly-2.4.3-cp36-cp36m-manylinux_2_17_x86_64.manylinux2014_x86_64.whl (456 kB)\n",
      "     |████████████████████████████████| 456 kB 56.8 MB/s            \n",
      "\u001b[?25hRequirement already satisfied: zipp>=0.5 in /home/ec2-user/anaconda3/envs/python3/lib/python3.6/site-packages (from catalogue<2.1.0,>=2.0.6->spacy==3.3.0) (3.4.0)\n",
      "Requirement already satisfied: pyparsing!=3.0.5,>=2.0.2 in /home/ec2-user/anaconda3/envs/python3/lib/python3.6/site-packages (from packaging>=20.0->spacy==3.3.0) (2.4.7)\n",
      "Collecting smart-open<6.0.0,>=5.0.0\n",
      "  Downloading smart_open-5.2.1-py3-none-any.whl (58 kB)\n",
      "     |████████████████████████████████| 58 kB 746 kB/s             \n",
      "\u001b[?25hRequirement already satisfied: dataclasses<1.0,>=0.6 in /home/ec2-user/anaconda3/envs/python3/lib/python3.6/site-packages (from pathy>=0.3.5->spacy==3.3.0) (0.8)\n",
      "Requirement already satisfied: charset-normalizer~=2.0.0 in /home/ec2-user/anaconda3/envs/python3/lib/python3.6/site-packages (from requests<3.0.0,>=2.13.0->spacy==3.3.0) (2.0.9)\n",
      "Requirement already satisfied: urllib3<1.27,>=1.21.1 in /home/ec2-user/anaconda3/envs/python3/lib/python3.6/site-packages (from requests<3.0.0,>=2.13.0->spacy==3.3.0) (1.26.8)\n",
      "Requirement already satisfied: idna<4,>=2.5 in /home/ec2-user/anaconda3/envs/python3/lib/python3.6/site-packages (from requests<3.0.0,>=2.13.0->spacy==3.3.0) (3.1)\n",
      "Requirement already satisfied: certifi>=2017.4.17 in /home/ec2-user/anaconda3/envs/python3/lib/python3.6/site-packages (from requests<3.0.0,>=2.13.0->spacy==3.3.0) (2021.5.30)\n",
      "Requirement already satisfied: contextvars<3,>=2.4 in /home/ec2-user/anaconda3/envs/python3/lib/python3.6/site-packages (from thinc<8.1.0,>=8.0.14->spacy==3.3.0) (2.4)\n",
      "Requirement already satisfied: click<9.0.0,>=7.1.1 in /home/ec2-user/anaconda3/envs/python3/lib/python3.6/site-packages (from typer<0.5.0,>=0.3.0->spacy==3.3.0) (7.1.2)\n",
      "Requirement already satisfied: MarkupSafe>=0.23 in /home/ec2-user/anaconda3/envs/python3/lib/python3.6/site-packages (from jinja2->spacy==3.3.0) (1.1.1)\n",
      "Requirement already satisfied: immutables>=0.9 in /home/ec2-user/anaconda3/envs/python3/lib/python3.6/site-packages (from contextvars<3,>=2.4->thinc<8.1.0,>=8.0.14->spacy==3.3.0) (0.15)\n",
      "Installing collected packages: typing-extensions, murmurhash, cymem, catalogue, wasabi, typer, srsly, smart-open, pydantic, preshed, blis, thinc, spacy-loggers, spacy-legacy, pathy, langcodes, spacy\n",
      "  Attempting uninstall: typing-extensions\n",
      "    Found existing installation: typing-extensions 4.0.1\n",
      "    Uninstalling typing-extensions-4.0.1:\n",
      "      Successfully uninstalled typing-extensions-4.0.1\n",
      "\u001b[31mERROR: pip's dependency resolver does not currently take into account all the packages that are installed. This behaviour is the source of the following dependency conflicts.\n",
      "aiobotocore 1.3.0 requires botocore<1.20.50,>=1.20.49, but you have botocore 1.24.43 which is incompatible.\u001b[0m\n",
      "Successfully installed blis-0.7.7 catalogue-2.0.7 cymem-2.0.6 langcodes-3.3.0 murmurhash-1.0.7 pathy-0.6.1 preshed-3.0.6 pydantic-1.8.2 smart-open-5.2.1 spacy-3.3.0 spacy-legacy-3.0.9 spacy-loggers-1.0.2 srsly-2.4.3 thinc-8.0.17 typer-0.4.1 typing-extensions-3.10.0.2 wasabi-0.9.1\n",
      "Collecting en-core-web-lg==3.3.0\n",
      "  Downloading https://github.com/explosion/spacy-models/releases/download/en_core_web_lg-3.3.0/en_core_web_lg-3.3.0-py3-none-any.whl (400.7 MB)\n",
      "     |████████████████████████████████| 400.7 MB 3.7 kB/s             \n",
      "\u001b[?25hRequirement already satisfied: spacy<3.4.0,>=3.3.0.dev0 in /home/ec2-user/anaconda3/envs/python3/lib/python3.6/site-packages (from en-core-web-lg==3.3.0) (3.3.0)\n",
      "Requirement already satisfied: cymem<2.1.0,>=2.0.2 in /home/ec2-user/anaconda3/envs/python3/lib/python3.6/site-packages (from spacy<3.4.0,>=3.3.0.dev0->en-core-web-lg==3.3.0) (2.0.6)\n",
      "Requirement already satisfied: setuptools in /home/ec2-user/anaconda3/envs/python3/lib/python3.6/site-packages (from spacy<3.4.0,>=3.3.0.dev0->en-core-web-lg==3.3.0) (49.6.0.post20210108)\n",
      "Requirement already satisfied: numpy>=1.15.0 in /home/ec2-user/anaconda3/envs/python3/lib/python3.6/site-packages (from spacy<3.4.0,>=3.3.0.dev0->en-core-web-lg==3.3.0) (1.19.5)\n",
      "Requirement already satisfied: packaging>=20.0 in /home/ec2-user/anaconda3/envs/python3/lib/python3.6/site-packages (from spacy<3.4.0,>=3.3.0.dev0->en-core-web-lg==3.3.0) (21.3)\n",
      "Requirement already satisfied: spacy-legacy<3.1.0,>=3.0.9 in /home/ec2-user/anaconda3/envs/python3/lib/python3.6/site-packages (from spacy<3.4.0,>=3.3.0.dev0->en-core-web-lg==3.3.0) (3.0.9)\n",
      "Requirement already satisfied: catalogue<2.1.0,>=2.0.6 in /home/ec2-user/anaconda3/envs/python3/lib/python3.6/site-packages (from spacy<3.4.0,>=3.3.0.dev0->en-core-web-lg==3.3.0) (2.0.7)\n",
      "Requirement already satisfied: langcodes<4.0.0,>=3.2.0 in /home/ec2-user/anaconda3/envs/python3/lib/python3.6/site-packages (from spacy<3.4.0,>=3.3.0.dev0->en-core-web-lg==3.3.0) (3.3.0)\n",
      "Requirement already satisfied: pathy>=0.3.5 in /home/ec2-user/anaconda3/envs/python3/lib/python3.6/site-packages (from spacy<3.4.0,>=3.3.0.dev0->en-core-web-lg==3.3.0) (0.6.1)\n",
      "Requirement already satisfied: thinc<8.1.0,>=8.0.14 in /home/ec2-user/anaconda3/envs/python3/lib/python3.6/site-packages (from spacy<3.4.0,>=3.3.0.dev0->en-core-web-lg==3.3.0) (8.0.17)\n",
      "Requirement already satisfied: jinja2 in /home/ec2-user/anaconda3/envs/python3/lib/python3.6/site-packages (from spacy<3.4.0,>=3.3.0.dev0->en-core-web-lg==3.3.0) (2.11.3)\n",
      "Requirement already satisfied: requests<3.0.0,>=2.13.0 in /home/ec2-user/anaconda3/envs/python3/lib/python3.6/site-packages (from spacy<3.4.0,>=3.3.0.dev0->en-core-web-lg==3.3.0) (2.26.0)\n",
      "Requirement already satisfied: srsly<3.0.0,>=2.4.3 in /home/ec2-user/anaconda3/envs/python3/lib/python3.6/site-packages (from spacy<3.4.0,>=3.3.0.dev0->en-core-web-lg==3.3.0) (2.4.3)\n",
      "Requirement already satisfied: spacy-loggers<2.0.0,>=1.0.0 in /home/ec2-user/anaconda3/envs/python3/lib/python3.6/site-packages (from spacy<3.4.0,>=3.3.0.dev0->en-core-web-lg==3.3.0) (1.0.2)\n",
      "Requirement already satisfied: murmurhash<1.1.0,>=0.28.0 in /home/ec2-user/anaconda3/envs/python3/lib/python3.6/site-packages (from spacy<3.4.0,>=3.3.0.dev0->en-core-web-lg==3.3.0) (1.0.7)\n",
      "Requirement already satisfied: blis<0.8.0,>=0.4.0 in /home/ec2-user/anaconda3/envs/python3/lib/python3.6/site-packages (from spacy<3.4.0,>=3.3.0.dev0->en-core-web-lg==3.3.0) (0.7.7)\n",
      "Requirement already satisfied: preshed<3.1.0,>=3.0.2 in /home/ec2-user/anaconda3/envs/python3/lib/python3.6/site-packages (from spacy<3.4.0,>=3.3.0.dev0->en-core-web-lg==3.3.0) (3.0.6)\n",
      "Requirement already satisfied: tqdm<5.0.0,>=4.38.0 in /home/ec2-user/anaconda3/envs/python3/lib/python3.6/site-packages (from spacy<3.4.0,>=3.3.0.dev0->en-core-web-lg==3.3.0) (4.62.3)\n",
      "Requirement already satisfied: wasabi<1.1.0,>=0.9.1 in /home/ec2-user/anaconda3/envs/python3/lib/python3.6/site-packages (from spacy<3.4.0,>=3.3.0.dev0->en-core-web-lg==3.3.0) (0.9.1)\n",
      "Requirement already satisfied: pydantic!=1.8,!=1.8.1,<1.9.0,>=1.7.4 in /home/ec2-user/anaconda3/envs/python3/lib/python3.6/site-packages (from spacy<3.4.0,>=3.3.0.dev0->en-core-web-lg==3.3.0) (1.8.2)\n",
      "Requirement already satisfied: typer<0.5.0,>=0.3.0 in /home/ec2-user/anaconda3/envs/python3/lib/python3.6/site-packages (from spacy<3.4.0,>=3.3.0.dev0->en-core-web-lg==3.3.0) (0.4.1)\n",
      "Requirement already satisfied: typing-extensions<4.0.0.0,>=3.7.4 in /home/ec2-user/anaconda3/envs/python3/lib/python3.6/site-packages (from spacy<3.4.0,>=3.3.0.dev0->en-core-web-lg==3.3.0) (3.10.0.2)\n",
      "Requirement already satisfied: zipp>=0.5 in /home/ec2-user/anaconda3/envs/python3/lib/python3.6/site-packages (from catalogue<2.1.0,>=2.0.6->spacy<3.4.0,>=3.3.0.dev0->en-core-web-lg==3.3.0) (3.4.0)\n",
      "Requirement already satisfied: pyparsing!=3.0.5,>=2.0.2 in /home/ec2-user/anaconda3/envs/python3/lib/python3.6/site-packages (from packaging>=20.0->spacy<3.4.0,>=3.3.0.dev0->en-core-web-lg==3.3.0) (2.4.7)\n",
      "Requirement already satisfied: smart-open<6.0.0,>=5.0.0 in /home/ec2-user/anaconda3/envs/python3/lib/python3.6/site-packages (from pathy>=0.3.5->spacy<3.4.0,>=3.3.0.dev0->en-core-web-lg==3.3.0) (5.2.1)\n",
      "Requirement already satisfied: dataclasses<1.0,>=0.6 in /home/ec2-user/anaconda3/envs/python3/lib/python3.6/site-packages (from pathy>=0.3.5->spacy<3.4.0,>=3.3.0.dev0->en-core-web-lg==3.3.0) (0.8)\n",
      "Requirement already satisfied: charset-normalizer~=2.0.0 in /home/ec2-user/anaconda3/envs/python3/lib/python3.6/site-packages (from requests<3.0.0,>=2.13.0->spacy<3.4.0,>=3.3.0.dev0->en-core-web-lg==3.3.0) (2.0.9)\n",
      "Requirement already satisfied: idna<4,>=2.5 in /home/ec2-user/anaconda3/envs/python3/lib/python3.6/site-packages (from requests<3.0.0,>=2.13.0->spacy<3.4.0,>=3.3.0.dev0->en-core-web-lg==3.3.0) (3.1)\n",
      "Requirement already satisfied: certifi>=2017.4.17 in /home/ec2-user/anaconda3/envs/python3/lib/python3.6/site-packages (from requests<3.0.0,>=2.13.0->spacy<3.4.0,>=3.3.0.dev0->en-core-web-lg==3.3.0) (2021.5.30)\n",
      "Requirement already satisfied: urllib3<1.27,>=1.21.1 in /home/ec2-user/anaconda3/envs/python3/lib/python3.6/site-packages (from requests<3.0.0,>=2.13.0->spacy<3.4.0,>=3.3.0.dev0->en-core-web-lg==3.3.0) (1.26.8)\n",
      "Requirement already satisfied: contextvars<3,>=2.4 in /home/ec2-user/anaconda3/envs/python3/lib/python3.6/site-packages (from thinc<8.1.0,>=8.0.14->spacy<3.4.0,>=3.3.0.dev0->en-core-web-lg==3.3.0) (2.4)\n",
      "Requirement already satisfied: click<9.0.0,>=7.1.1 in /home/ec2-user/anaconda3/envs/python3/lib/python3.6/site-packages (from typer<0.5.0,>=0.3.0->spacy<3.4.0,>=3.3.0.dev0->en-core-web-lg==3.3.0) (7.1.2)\n",
      "Requirement already satisfied: MarkupSafe>=0.23 in /home/ec2-user/anaconda3/envs/python3/lib/python3.6/site-packages (from jinja2->spacy<3.4.0,>=3.3.0.dev0->en-core-web-lg==3.3.0) (1.1.1)\n",
      "Requirement already satisfied: immutables>=0.9 in /home/ec2-user/anaconda3/envs/python3/lib/python3.6/site-packages (from contextvars<3,>=2.4->thinc<8.1.0,>=8.0.14->spacy<3.4.0,>=3.3.0.dev0->en-core-web-lg==3.3.0) (0.15)\n",
      "Installing collected packages: en-core-web-lg\n",
      "Successfully installed en-core-web-lg-3.3.0\n",
      "\u001b[38;5;2m✔ Download and installation successful\u001b[0m\n",
      "You can now load the package via spacy.load('en_core_web_lg')\n"
     ]
    }
   ],
   "source": [
    "# Install spaCy \n",
    "!pip3 install -U spacy==3.3.0\n",
    "\n",
    "# Download the large English model for spaCy\n",
    "!python3 -m spacy download en_core_web_lg\n",
    "\n",
    "# Install textacy which will also be useful\n",
    "#!pip3 install -U textacy"
   ]
  },
  {
   "cell_type": "code",
   "execution_count": 16,
   "id": "40fd4d2f",
   "metadata": {},
   "outputs": [],
   "source": [
    "from sagemaker import get_execution_role\n",
    "import boto3\n",
    "import spacy"
   ]
  },
  {
   "cell_type": "code",
   "execution_count": 20,
   "id": "303b3661",
   "metadata": {},
   "outputs": [
    {
     "name": "stdout",
     "output_type": "stream",
     "text": [
      "load/\n",
      "load/text (1).txt\n"
     ]
    }
   ],
   "source": [
    "bucket='riyab'\n",
    "sub='load'\n",
    "\n",
    "conn = boto3.client('s3')\n",
    "contents = conn.list_objects(Bucket=bucket, Prefix=sub)['Contents']\n",
    "for f in contents:\n",
    "    print(f['Key'])"
   ]
  },
  {
   "cell_type": "code",
   "execution_count": 21,
   "id": "ca4d5b68",
   "metadata": {},
   "outputs": [],
   "source": [
    "\n",
    "# Connect to S3 bucket and download file\n",
    "s3 = boto3.resource('s3')\n",
    "buck=s3.Bucket(bucket)\n",
    "# for obj in buck.objects.all():\n",
    "#     key = obj.key\n",
    "#     text = obj.get()['Body'].read()\n",
    "# text=text.decode(\"utf-8\")"
   ]
  },
  {
   "cell_type": "code",
   "execution_count": 24,
   "id": "4ad1699b",
   "metadata": {},
   "outputs": [
    {
     "data": {
      "text/plain": [
       "\"Lorem Ipsum is simply dummy text of the printing and typesetting industry. Lorem Ipsum has been the industry's standard dummy text ever since the 1500s, when an unknown printer took a galley of type and scrambled it to make a type specimen book. It has survived not only five centuries, but also the leap into electronic typesetting, remaining essentially unchanged. It was popularised in the 1960s with the release of Letraset sheets containing Lorem Ipsum passages, and more recently with desktop publishing software like Aldus PageMaker including versions of Lorem Ipsum.\""
      ]
     },
     "execution_count": 24,
     "metadata": {},
     "output_type": "execute_result"
    }
   ],
   "source": [
    "my_bucket = 'riyab'\n",
    "my_file = 'load/text (1).txt'\n",
    "s3client = boto3.client('s3')\n",
    "response = s3client.get_object(Bucket=my_bucket, Key=my_file)\n",
    "body = response['Body'].read()\n",
    "text=body.decode('cp1252')\n",
    "text"
   ]
  },
  {
   "cell_type": "code",
   "execution_count": 25,
   "id": "e5898a9f",
   "metadata": {},
   "outputs": [
    {
     "name": "stdout",
     "output_type": "stream",
     "text": [
      "Lorem Ipsum Ipsum nsubj is\n",
      "dummy text text attr is\n",
      "the printing and typesetting industry industry pobj of\n",
      "Lorem Ipsum Ipsum nsubj been\n",
      "the industry's standard dummy text text attr been\n",
      "an unknown printer printer nsubj took\n",
      "a galley galley dobj took\n",
      "type type pobj of\n",
      "it it dobj scrambled\n",
      "a type specimen book book dobj make\n",
      "It It nsubj survived\n",
      "not only five centuries centuries dobj survived\n",
      "the leap leap conj centuries\n",
      "electronic typesetting typesetting pobj into\n",
      "It It nsubjpass popularised\n",
      "the 1960s 1960s pobj in\n",
      "the release release pobj with\n",
      "Letraset sheets sheets pobj of\n",
      "Lorem Ipsum passages passages dobj containing\n",
      "desktop publishing software software pobj with\n",
      "Aldus PageMaker PageMaker pobj like\n",
      "versions versions pobj including\n",
      "Lorem Ipsum Ipsum pobj of\n"
     ]
    }
   ],
   "source": [
    "import spacy\n",
    "\n",
    "# Load the large English NLP model\n",
    "nlp = spacy.load('en_core_web_lg')\n",
    "\n",
    "# Parse the text with spaCy. This runs the entire pipeline.\n",
    "# so we've already segmented and tokenized the doc in one line\n",
    "doc = nlp(text)\n",
    "\n",
    "#with this pipeline we can look at different kind of words and phrases\n",
    "#for instance let us look at flat phrases that have a noun as their head\n",
    "for chunk in doc.noun_chunks:\n",
    "    print(chunk.text, chunk.root.text, chunk.root.dep_,\n",
    "            chunk.root.head.text)"
   ]
  },
  {
   "cell_type": "code",
   "execution_count": 26,
   "id": "3fe3cba4",
   "metadata": {},
   "outputs": [
    {
     "data": {
      "text/plain": [
       "['Lorem Ipsum is simply dummy text of the printing and typesetting industry',\n",
       " \" Lorem Ipsum has been the industry's standard dummy text ever since the 1500s, when an unknown printer took a galley of type and scrambled it to make a type specimen book\",\n",
       " ' It has survived not only five centuries, but also the leap into electronic typesetting, remaining essentially unchanged',\n",
       " ' It was popularised in the 1960s with the release of Letraset sheets containing Lorem Ipsum passages, and more recently with desktop publishing software like Aldus PageMaker including versions of Lorem Ipsum',\n",
       " '']"
      ]
     },
     "execution_count": 26,
     "metadata": {},
     "output_type": "execute_result"
    }
   ],
   "source": [
    "#as sentences\n",
    "\n",
    "sents=text.split('.')\n",
    "sents"
   ]
  },
  {
   "cell_type": "code",
   "execution_count": 27,
   "id": "f5dda7c7",
   "metadata": {},
   "outputs": [
    {
     "name": "stdout",
     "output_type": "stream",
     "text": [
      "Lorem\n",
      "Ipsum\n",
      "is\n",
      "simply\n",
      "dummy\n",
      "text\n",
      "of\n",
      "the\n",
      "printing\n",
      "and\n",
      "typesetting\n",
      "industry\n",
      ".\n",
      "Lorem\n",
      "Ipsum\n",
      "has\n",
      "been\n",
      "the\n",
      "industry\n",
      "'s\n",
      "standard\n",
      "dummy\n",
      "text\n",
      "ever\n",
      "since\n",
      "the\n",
      "1500s\n",
      ",\n",
      "when\n",
      "an\n",
      "unknown\n",
      "printer\n",
      "took\n",
      "a\n",
      "galley\n",
      "of\n",
      "type\n",
      "and\n",
      "scrambled\n",
      "it\n",
      "to\n",
      "make\n",
      "a\n",
      "type\n",
      "specimen\n",
      "book\n",
      ".\n",
      "It\n",
      "has\n",
      "survived\n",
      "not\n",
      "only\n",
      "five\n",
      "centuries\n",
      ",\n",
      "but\n",
      "also\n",
      "the\n",
      "leap\n",
      "into\n",
      "electronic\n",
      "typesetting\n",
      ",\n",
      "remaining\n",
      "essentially\n",
      "unchanged\n",
      ".\n",
      "It\n",
      "was\n",
      "popularised\n",
      "in\n",
      "the\n",
      "1960s\n",
      "with\n",
      "the\n",
      "release\n",
      "of\n",
      "Letraset\n",
      "sheets\n",
      "containing\n",
      "Lorem\n",
      "Ipsum\n",
      "passages\n",
      ",\n",
      "and\n",
      "more\n",
      "recently\n",
      "with\n",
      "desktop\n",
      "publishing\n",
      "software\n",
      "like\n",
      "Aldus\n",
      "PageMaker\n",
      "including\n",
      "versions\n",
      "of\n",
      "Lorem\n",
      "Ipsum\n",
      ".\n"
     ]
    }
   ],
   "source": [
    "#as words\n",
    "\n",
    "for word in doc:\n",
    "    print(word.text)"
   ]
  },
  {
   "cell_type": "code",
   "execution_count": 28,
   "id": "919d03ee",
   "metadata": {},
   "outputs": [
    {
     "name": "stdout",
     "output_type": "stream",
     "text": [
      "is\n",
      "of\n",
      "the\n",
      "and\n",
      "has\n",
      "been\n",
      "the\n",
      "'s\n",
      "ever\n",
      "since\n",
      "the\n",
      "when\n",
      "an\n",
      "a\n",
      "of\n",
      "and\n",
      "it\n",
      "to\n",
      "make\n",
      "a\n",
      "It\n",
      "has\n",
      "not\n",
      "only\n",
      "five\n",
      "but\n",
      "also\n",
      "the\n",
      "into\n",
      "It\n",
      "was\n",
      "in\n",
      "the\n",
      "with\n",
      "the\n",
      "of\n",
      "and\n",
      "more\n",
      "with\n",
      "of\n"
     ]
    }
   ],
   "source": [
    "# now we'll filter out stop words\n",
    "filter_doc=\"\"\n",
    "for token in doc:\n",
    "  if token.is_stop:\n",
    "    print(token.text)\n",
    "  else:\n",
    "    filter_doc+=token.text+ \" \""
   ]
  },
  {
   "cell_type": "code",
   "execution_count": 29,
   "id": "943bb2c3",
   "metadata": {},
   "outputs": [
    {
     "name": "stdout",
     "output_type": "stream",
     "text": [
      "1500s becomes 1500\n",
      "took becomes take\n",
      "scrambled becomes scramble\n",
      "survived becomes survive\n",
      "centuries becomes century\n",
      "remaining becomes remain\n",
      "popularised becomes popularise\n",
      "1960s becomes 1960\n",
      "sheets becomes sheet\n",
      "containing becomes contain\n",
      "passages becomes passage\n",
      "including becomes include\n",
      "versions becomes version\n"
     ]
    }
   ],
   "source": [
    "#Since spacy does not have a built in lemmatizer, we'd build a lemmatizer instead\n",
    "\n",
    "#Text Lemmatization: finding the base word of our word in doc\n",
    "# for instance stand becomes standing, fell becomes fall\n",
    "# we'll put lemmatized words in a new filtered doc\n",
    "doc = nlp(filter_doc)\n",
    "filter_doc=\"\"\n",
    "for token in doc:\n",
    "  filter_doc+=token.lemma_ + \" \"\n",
    "  if token.text != token.lemma_:\n",
    "    print(token.text+\" becomes \"+token.lemma_)"
   ]
  },
  {
   "cell_type": "code",
   "execution_count": 30,
   "id": "488a5607",
   "metadata": {},
   "outputs": [],
   "source": [
    "!mkdir results"
   ]
  },
  {
   "cell_type": "code",
   "execution_count": 31,
   "id": "4df47e85",
   "metadata": {},
   "outputs": [],
   "source": [
    "import numpy as np\n",
    "doc = nlp(filter_doc)\n",
    "words=[]\n",
    "with open('results/words.txt','w') as f:\n",
    "\n",
    "    for word in doc:\n",
    "        words.append(word.text)\n",
    "        f.write(word.text)\n",
    "        f.write('\\n')\n",
    "np.save('results/words.npy',words,allow_pickle=True)"
   ]
  },
  {
   "cell_type": "code",
   "execution_count": 32,
   "id": "1cd2d749",
   "metadata": {},
   "outputs": [],
   "source": [
    "import pickle\n",
    "pickle.dump(words, open('results/words.pickle', 'wb'))"
   ]
  },
  {
   "cell_type": "code",
   "execution_count": 33,
   "id": "3914fa49",
   "metadata": {},
   "outputs": [
    {
     "data": {
      "text/plain": [
       "{'ResponseMetadata': {'RequestId': '50A6RNSBMZ2H1HCX',\n",
       "  'HostId': 'gNQYz/u1NGUT0PDzAW/yzXFqo1MAObk87hCD60LQQTZhDQl8jFvupbyKKq4Y55AuUzKWm1MwQnI=',\n",
       "  'HTTPStatusCode': 200,\n",
       "  'HTTPHeaders': {'x-amz-id-2': 'gNQYz/u1NGUT0PDzAW/yzXFqo1MAObk87hCD60LQQTZhDQl8jFvupbyKKq4Y55AuUzKWm1MwQnI=',\n",
       "   'x-amz-request-id': '50A6RNSBMZ2H1HCX',\n",
       "   'date': 'Mon, 06 Jun 2022 08:15:03 GMT',\n",
       "   'etag': '\"d41d8cd98f00b204e9800998ecf8427e\"',\n",
       "   'server': 'AmazonS3',\n",
       "   'content-length': '0'},\n",
       "  'RetryAttempts': 0},\n",
       " 'ETag': '\"d41d8cd98f00b204e9800998ecf8427e\"'}"
      ]
     },
     "execution_count": 33,
     "metadata": {},
     "output_type": "execute_result"
    }
   ],
   "source": [
    "s3 = boto3.client('s3')\n",
    "\n",
    "folder_name = \"results\"\n",
    "\n",
    "s3.put_object(Bucket=my_bucket, Key=(folder_name+'/'))"
   ]
  },
  {
   "cell_type": "code",
   "execution_count": 34,
   "id": "30031adc",
   "metadata": {},
   "outputs": [],
   "source": [
    "with open('results/words.npy','rb') as data:\n",
    "    s3.put_object(Bucket=my_bucket,Key=(folder_name+'/'+'words.npy'),Body=data)\n",
    "with open('results/words.txt','rb') as data:\n",
    "    s3.put_object(Bucket=my_bucket,Key=(folder_name+'/'+'words.txt'),Body=data)\n",
    "with open('results/words.pickle','rb') as data:\n",
    "    s3.put_object(Bucket=my_bucket,Key=(folder_name+'/'+'words.pickle'),Body=data)"
   ]
  },
  {
   "cell_type": "code",
   "execution_count": null,
   "id": "ee365620",
   "metadata": {},
   "outputs": [],
   "source": []
  }
 ],
 "metadata": {
  "kernelspec": {
   "display_name": "conda_python3",
   "language": "python",
   "name": "conda_python3"
  },
  "language_info": {
   "codemirror_mode": {
    "name": "ipython",
    "version": 3
   },
   "file_extension": ".py",
   "mimetype": "text/x-python",
   "name": "python",
   "nbconvert_exporter": "python",
   "pygments_lexer": "ipython3",
   "version": "3.6.13"
  }
 },
 "nbformat": 4,
 "nbformat_minor": 5
}
